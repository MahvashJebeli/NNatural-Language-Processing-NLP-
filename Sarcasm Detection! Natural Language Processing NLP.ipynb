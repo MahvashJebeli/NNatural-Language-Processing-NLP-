{
 "cells": [
  {
   "cell_type": "code",
   "execution_count": 81,
   "id": "cf3e85ff",
   "metadata": {},
   "outputs": [],
   "source": [
    "# my practice code from https://www.youtube.com/playlist?list=PLQY2H8rRoyvzDbLUZkbudP-MFQZwNmU4S\n",
    "# Sarcasm Dataset from kaggle: https://www.kaggle.com/datasets/rmisra/news-headlines-dataset-for-sarcasm-detection\n",
    "# Citation:\n",
    "    # 1. Misra, Rishabh and Prahal Arora. \"Sarcasm Detection using News Headlines Dataset.\" AI Open (2023).\n",
    "    # 2. Misra, Rishabh and Jigyasa Grover. \"Sculpting Data for ML: The first act of Machine Learning.\" ISBN 9798585463570 (2021).\n",
    "import tensorflow as tf\n",
    "from tensorflow import keras\n",
    "from tensorflow.keras.preprocessing.text import Tokenizer\n",
    "from tensorflow.keras.preprocessing.sequence import pad_sequences\n",
    "\n",
    "import numpy as np\n",
    "import json"
   ]
  },
  {
   "cell_type": "code",
   "execution_count": 82,
   "id": "75122035",
   "metadata": {},
   "outputs": [],
   "source": [
    "# import data\n",
    "# with open('Sarcasm_Headlines_Dataset.json', 'r') as f:\n",
    "#     datastore = json.loads(f)\n",
    "    \n",
    "def parse_data(file):\n",
    "    for l in open(file,'r'):\n",
    "        yield json.loads(l)\n",
    "\n",
    "data = list(parse_data('./Sarcasm_Headlines_Dataset.json'))"
   ]
  },
  {
   "cell_type": "code",
   "execution_count": 83,
   "id": "91cf0b2d",
   "metadata": {},
   "outputs": [],
   "source": [
    "vocab_size = 10000\n",
    "embedding_dim = 16\n",
    "max_length = 100\n",
    "trunc_type='post'\n",
    "padding_type='post'\n",
    "oov_tok = \"<OOV>\"\n",
    "training_size = 20000"
   ]
  },
  {
   "cell_type": "code",
   "execution_count": 84,
   "id": "c5d28fce",
   "metadata": {},
   "outputs": [
    {
     "name": "stdout",
     "output_type": "stream",
     "text": [
      "[ 328    1  799 3405 2404   47  389 2214    1    6 2614 8863    0    0\n",
      "    0    0    0    0    0    0    0    0    0    0    0    0    0    0\n",
      "    0    0    0    0    0    0    0    0    0    0    0    0    0    0\n",
      "    0    0    0    0    0    0    0    0    0    0    0    0    0    0\n",
      "    0    0    0    0    0    0    0    0    0    0    0    0    0    0\n",
      "    0    0    0    0    0    0    0    0    0    0    0    0    0    0\n",
      "    0    0    0    0    0    0    0    0    0    0    0    0    0    0\n",
      "    0    0]\n",
      "(20000, 100)\n"
     ]
    }
   ],
   "source": [
    "# getting data ready for Neural Network\n",
    "sentences = []\n",
    "labels = []\n",
    "urls = []\n",
    "\n",
    "for item in data:\n",
    "    sentences.append(item['headline'])\n",
    "    labels.append(item['is_sarcastic'])\n",
    "    urls.append(item['article_link'])\n",
    "\n",
    "# splitting into training and test sets\n",
    "training_sentences = sentences[0 : training_size]\n",
    "testing_sentences = sentences[training_size:]\n",
    "training_labels = labels[0 : training_size]\n",
    "testing_labels = labels[training_size:]\n",
    "\n",
    "# Tokenization\n",
    "tokenizer = Tokenizer(num_words = vocab_size, oov_token = oov_tok) # including out of vocabulary words\n",
    "tokenizer.fit_on_texts(training_sentences)\n",
    "word_index = tokenizer.word_index\n",
    "# print(word_index)\n",
    "\n",
    "# Sequencing\n",
    "training_sequences = tokenizer.texts_to_sequences(training_sentences)\n",
    "# print(sequences)\n",
    "\n",
    "# Padding\n",
    "training_padded = pad_sequences(training_sequences, maxlen = max_length,\n",
    "                                padding = padding_type, truncating = trunc_type) # to make the sequences the same size\n",
    "print(training_padded[0])\n",
    "print(training_padded.shape)"
   ]
  },
  {
   "cell_type": "code",
   "execution_count": 85,
   "id": "bf6801aa",
   "metadata": {},
   "outputs": [
    {
     "name": "stdout",
     "output_type": "stream",
     "text": [
      "(6709, 100)\n",
      "6709\n"
     ]
    }
   ],
   "source": [
    "# Testing sets, ready for evaluation\n",
    "# Sequencing\n",
    "testing_sequences = tokenizer.texts_to_sequences(testing_sentences)\n",
    "# Padding\n",
    "testing_padded = pad_sequences(testing_sequences, maxlen = max_length,\n",
    "                                padding = padding_type, truncating = trunc_type)\n",
    "\n",
    "print(testing_padded.shape)\n",
    "print(len(testing_labels))"
   ]
  },
  {
   "cell_type": "code",
   "execution_count": 86,
   "id": "1277d6bf",
   "metadata": {},
   "outputs": [],
   "source": [
    "import numpy as np\n",
    "training_padded = np.array(training_padded)\n",
    "training_labels = np.array(training_labels)\n",
    "testing_padded = np.array(testing_padded)\n",
    "testing_labels = np.array(testing_labels)"
   ]
  },
  {
   "cell_type": "code",
   "execution_count": 87,
   "id": "88bfb9c1",
   "metadata": {},
   "outputs": [],
   "source": [
    "# Building the Neural Network\n",
    "model = tf.keras.Sequential([\n",
    "    tf.keras.layers.Embedding(vocab_size, embedding_dim, input_length = max_length),\n",
    "    tf.keras.layers.GlobalAveragePooling1D(),\n",
    "    tf.keras.layers.Dense(24, activation = 'relu'),\n",
    "    tf.keras.layers.Dense(1, activation = 'sigmoid')\n",
    "])"
   ]
  },
  {
   "cell_type": "code",
   "execution_count": 88,
   "id": "7620c360",
   "metadata": {},
   "outputs": [],
   "source": [
    "# Compiling the model\n",
    "model.compile(loss = 'binary_crossentropy', optimizer = 'adam', metrics = ['accuracy'])"
   ]
  },
  {
   "cell_type": "code",
   "execution_count": 89,
   "id": "da0173f5",
   "metadata": {},
   "outputs": [
    {
     "name": "stdout",
     "output_type": "stream",
     "text": [
      "Epoch 1/30\n",
      "625/625 - 3s - loss: 0.6705 - accuracy: 0.5791 - val_loss: 0.6059 - val_accuracy: 0.7782 - 3s/epoch - 6ms/step\n",
      "Epoch 2/30\n",
      "625/625 - 2s - loss: 0.4479 - accuracy: 0.8301 - val_loss: 0.3928 - val_accuracy: 0.8354 - 2s/epoch - 4ms/step\n",
      "Epoch 3/30\n",
      "625/625 - 2s - loss: 0.3176 - accuracy: 0.8740 - val_loss: 0.3571 - val_accuracy: 0.8495 - 2s/epoch - 4ms/step\n",
      "Epoch 4/30\n",
      "625/625 - 2s - loss: 0.2651 - accuracy: 0.8971 - val_loss: 0.3431 - val_accuracy: 0.8563 - 2s/epoch - 4ms/step\n",
      "Epoch 5/30\n",
      "625/625 - 2s - loss: 0.2296 - accuracy: 0.9128 - val_loss: 0.3417 - val_accuracy: 0.8551 - 2s/epoch - 4ms/step\n",
      "Epoch 6/30\n",
      "625/625 - 2s - loss: 0.2042 - accuracy: 0.9216 - val_loss: 0.3606 - val_accuracy: 0.8493 - 2s/epoch - 4ms/step\n",
      "Epoch 7/30\n",
      "625/625 - 2s - loss: 0.1800 - accuracy: 0.9323 - val_loss: 0.3665 - val_accuracy: 0.8483 - 2s/epoch - 4ms/step\n",
      "Epoch 8/30\n",
      "625/625 - 2s - loss: 0.1630 - accuracy: 0.9388 - val_loss: 0.3678 - val_accuracy: 0.8550 - 2s/epoch - 4ms/step\n",
      "Epoch 9/30\n",
      "625/625 - 2s - loss: 0.1467 - accuracy: 0.9481 - val_loss: 0.3876 - val_accuracy: 0.8498 - 2s/epoch - 4ms/step\n",
      "Epoch 10/30\n",
      "625/625 - 2s - loss: 0.1334 - accuracy: 0.9531 - val_loss: 0.4043 - val_accuracy: 0.8486 - 2s/epoch - 4ms/step\n",
      "Epoch 11/30\n",
      "625/625 - 2s - loss: 0.1214 - accuracy: 0.9585 - val_loss: 0.4238 - val_accuracy: 0.8498 - 2s/epoch - 4ms/step\n",
      "Epoch 12/30\n",
      "625/625 - 3s - loss: 0.1099 - accuracy: 0.9627 - val_loss: 0.4567 - val_accuracy: 0.8404 - 3s/epoch - 4ms/step\n",
      "Epoch 13/30\n",
      "625/625 - 2s - loss: 0.1019 - accuracy: 0.9661 - val_loss: 0.4659 - val_accuracy: 0.8453 - 2s/epoch - 4ms/step\n",
      "Epoch 14/30\n",
      "625/625 - 3s - loss: 0.0942 - accuracy: 0.9682 - val_loss: 0.4889 - val_accuracy: 0.8433 - 3s/epoch - 4ms/step\n",
      "Epoch 15/30\n",
      "625/625 - 3s - loss: 0.0862 - accuracy: 0.9715 - val_loss: 0.5211 - val_accuracy: 0.8392 - 3s/epoch - 4ms/step\n",
      "Epoch 16/30\n",
      "625/625 - 2s - loss: 0.0794 - accuracy: 0.9747 - val_loss: 0.5636 - val_accuracy: 0.8331 - 2s/epoch - 4ms/step\n",
      "Epoch 17/30\n",
      "625/625 - 2s - loss: 0.0740 - accuracy: 0.9758 - val_loss: 0.5741 - val_accuracy: 0.8338 - 2s/epoch - 4ms/step\n",
      "Epoch 18/30\n",
      "625/625 - 3s - loss: 0.0674 - accuracy: 0.9783 - val_loss: 0.6276 - val_accuracy: 0.8281 - 3s/epoch - 4ms/step\n",
      "Epoch 19/30\n",
      "625/625 - 3s - loss: 0.0627 - accuracy: 0.9805 - val_loss: 0.6344 - val_accuracy: 0.8307 - 3s/epoch - 4ms/step\n",
      "Epoch 20/30\n",
      "625/625 - 2s - loss: 0.0582 - accuracy: 0.9824 - val_loss: 0.6604 - val_accuracy: 0.8299 - 2s/epoch - 4ms/step\n",
      "Epoch 21/30\n",
      "625/625 - 2s - loss: 0.0543 - accuracy: 0.9833 - val_loss: 0.7167 - val_accuracy: 0.8240 - 2s/epoch - 4ms/step\n",
      "Epoch 22/30\n",
      "625/625 - 2s - loss: 0.0491 - accuracy: 0.9847 - val_loss: 0.7360 - val_accuracy: 0.8241 - 2s/epoch - 4ms/step\n",
      "Epoch 23/30\n",
      "625/625 - 2s - loss: 0.0463 - accuracy: 0.9860 - val_loss: 0.8302 - val_accuracy: 0.8199 - 2s/epoch - 4ms/step\n",
      "Epoch 24/30\n",
      "625/625 - 2s - loss: 0.0426 - accuracy: 0.9870 - val_loss: 0.7988 - val_accuracy: 0.8235 - 2s/epoch - 4ms/step\n",
      "Epoch 25/30\n",
      "625/625 - 2s - loss: 0.0401 - accuracy: 0.9883 - val_loss: 0.8294 - val_accuracy: 0.8229 - 2s/epoch - 4ms/step\n",
      "Epoch 26/30\n",
      "625/625 - 2s - loss: 0.0366 - accuracy: 0.9893 - val_loss: 0.8631 - val_accuracy: 0.8199 - 2s/epoch - 4ms/step\n",
      "Epoch 27/30\n",
      "625/625 - 2s - loss: 0.0325 - accuracy: 0.9908 - val_loss: 0.9232 - val_accuracy: 0.8116 - 2s/epoch - 4ms/step\n",
      "Epoch 28/30\n",
      "625/625 - 2s - loss: 0.0301 - accuracy: 0.9918 - val_loss: 0.9358 - val_accuracy: 0.8170 - 2s/epoch - 4ms/step\n",
      "Epoch 29/30\n",
      "625/625 - 2s - loss: 0.0292 - accuracy: 0.9919 - val_loss: 0.9701 - val_accuracy: 0.8155 - 2s/epoch - 4ms/step\n",
      "Epoch 30/30\n",
      "625/625 - 2s - loss: 0.0258 - accuracy: 0.9927 - val_loss: 1.0082 - val_accuracy: 0.8147 - 2s/epoch - 4ms/step\n"
     ]
    }
   ],
   "source": [
    "# Fitting the model\n",
    "num_epochs = 30\n",
    "history = model.fit(training_padded, training_labels, epochs = num_epochs,\n",
    "                    validation_data=(testing_padded, testing_labels), verbose=2)"
   ]
  },
  {
   "cell_type": "code",
   "execution_count": 93,
   "id": "6db91dda",
   "metadata": {},
   "outputs": [
    {
     "name": "stdout",
     "output_type": "stream",
     "text": [
      "1/1 [==============================] - 0s 24ms/step\n",
      "[[0.9680223]]\n"
     ]
    }
   ],
   "source": [
    "# Predicting\n",
    "sentence = ['welcome to real life. It sucks, you are gonna love it!']\n",
    "\n",
    "sequences = tokenizer.texts_to_sequences(sentence)\n",
    "padded = pad_sequences(sequences, maxlen = max_length,\n",
    "                                padding = padding_type, truncating = trunc_type)\n",
    "print(model.predict(padded))"
   ]
  },
  {
   "cell_type": "code",
   "execution_count": null,
   "id": "464e55c1",
   "metadata": {},
   "outputs": [],
   "source": []
  }
 ],
 "metadata": {
  "kernelspec": {
   "display_name": "Python 3 (ipykernel)",
   "language": "python",
   "name": "python3"
  },
  "language_info": {
   "codemirror_mode": {
    "name": "ipython",
    "version": 3
   },
   "file_extension": ".py",
   "mimetype": "text/x-python",
   "name": "python",
   "nbconvert_exporter": "python",
   "pygments_lexer": "ipython3",
   "version": "3.9.17"
  }
 },
 "nbformat": 4,
 "nbformat_minor": 5
}
